{
 "cells": [
  {
   "cell_type": "markdown",
   "metadata": {
    "toc": true
   },
   "source": [
    "# Data Manipulation in Python"
   ]
  },
  {
   "cell_type": "code",
   "execution_count": null,
   "metadata": {},
   "outputs": [],
   "source": [
    "# No imports today\n",
    "\n"
   ]
  },
  {
   "cell_type": "markdown",
   "metadata": {
    "heading_collapsed": true
   },
   "source": [
    "# Objectives"
   ]
  },
  {
   "cell_type": "markdown",
   "metadata": {
    "hidden": true
   },
   "source": [
    "- Write functions to transform data\n",
    "- Construct list and dictionary comprehensions\n",
    "- Extract data from nested data structures"
   ]
  },
  {
   "cell_type": "markdown",
   "metadata": {
    "heading_collapsed": true
   },
   "source": [
    "# Functions"
   ]
  },
  {
   "cell_type": "markdown",
   "metadata": {
    "heading_collapsed": true
   },
   "source": [
    "This aspect of Python is _incredibly_ useful! Writing your own functions can save you a TON of work - by _automating_ it."
   ]
  },
  {
   "cell_type": "markdown",
   "metadata": {
    "heading_collapsed": true
   },
   "source": [
    "## Creating Functions"
   ]
  },
  {
   "cell_type": "markdown",
   "metadata": {
    "heading_collapsed": true
   },
   "source": [
    "The first line will read:\n",
    "\n",
    "```python\n",
    "\n",
    "'def' function_name() ':'\n",
    "\n",
    "```\n",
    "\n",
    "Any arguments to the function will go in the parentheses.\n",
    "\n",
    "Let's try building a function that will automate the task of finding how many times a given number can be evenly divided by 2."
   ]
  },
  {
   "cell_type": "code",
   "execution_count": null,
   "metadata": {
    "heading_collapsed": true
   },
   "outputs": [],
   "source": [
    "# Let's code it!\n",
    "\n"
   ]
  },
  {
   "cell_type": "markdown",
   "metadata": {
    "heading_collapsed": true
   },
   "source": [
    "## Calling Functions\n",
    "\n",
    "To _call_ a function, simply type its name, along with any necessary arguments in parentheses."
   ]
  },
  {
   "cell_type": "code",
   "execution_count": null,
   "metadata": {
    "heading_collapsed": true
   },
   "outputs": [],
   "source": [
    "# Let's call it!\n",
    "\n"
   ]
  },
  {
   "cell_type": "markdown",
   "metadata": {
    "heading_collapsed": true
   },
   "source": [
    "## Default Argument Values"
   ]
  },
  {
   "cell_type": "markdown",
   "metadata": {
    "heading_collapsed": true
   },
   "source": [
    "Sometimes we'll want the argument(s) of our function to have default values."
   ]
  },
  {
   "cell_type": "code",
   "execution_count": null,
   "metadata": {
    "heading_collapsed": true
   },
   "outputs": [],
   "source": [
    "def cheers(person='aaron', job='data scientist', age=30):\n",
    "    return f'Hooray for {person}. You\\'re a {job} and you\\'re {age}!'"
   ]
  },
  {
   "cell_type": "code",
   "execution_count": null,
   "metadata": {
    "heading_collapsed": true
   },
   "outputs": [],
   "source": [
    "cheers('greg', 'scientist', 130)"
   ]
  },
  {
   "cell_type": "code",
   "execution_count": null,
   "metadata": {},
   "outputs": [],
   "source": [
    "cheers(job='scientist', age=130, person='greg')"
   ]
  },
  {
   "cell_type": "code",
   "execution_count": null,
   "metadata": {
    "heading_collapsed": true
   },
   "outputs": [],
   "source": [
    "cheers('cristian', 'git enthusiast')"
   ]
  },
  {
   "cell_type": "code",
   "execution_count": null,
   "metadata": {
    "heading_collapsed": true
   },
   "outputs": [],
   "source": [
    "cheers()"
   ]
  },
  {
   "cell_type": "markdown",
   "metadata": {
    "heading_collapsed": true
   },
   "source": [
    "# Lists"
   ]
  },
  {
   "cell_type": "markdown",
   "metadata": {
    "heading_collapsed": true,
    "hidden": true
   },
   "source": [
    "## List Methods"
   ]
  },
  {
   "cell_type": "markdown",
   "metadata": {
    "hidden": true
   },
   "source": [
    "Make sure you're comfortable with the following list methods:\n",
    "\n",
    "- `.append()`: adds the input element to the end of a list\n",
    "- `.pop()`: removes and returns the element with input index from the list\n",
    "- `.extend()`: adds the elements in the input iterable to the end of a list\n",
    "- `.index()`: returns the first place in a list where the argument is found\n",
    "- `.remove()`: removes element by value\n",
    "- `.count()`: returns the number of occurrences of the input element in a list"
   ]
  },
  {
   "cell_type": "markdown",
   "metadata": {
    "hidden": true
   },
   "source": [
    "Question: What's the difference between `.remove()` and `del`?\n",
    "\n",
    "<details>\n",
    "    <summary>\n",
    "        Answer here\n",
    "    </summary>\n",
    "    .remove() removes an element by value;<br/>\n",
    "    del removes an element by position"
   ]
  },
  {
   "cell_type": "markdown",
   "metadata": {
    "heading_collapsed": true,
    "hidden": true
   },
   "source": [
    "## List Comprehension"
   ]
  },
  {
   "cell_type": "markdown",
   "metadata": {
    "hidden": true
   },
   "source": [
    "List comprehension is a handy way of generating a new list from existing iterables.\n",
    "\n",
    "Suppose I start with a simple list."
   ]
  },
  {
   "cell_type": "code",
   "execution_count": null,
   "metadata": {
    "hidden": true
   },
   "outputs": [],
   "source": [
    "primes = [2, 3, 5, 7, 11, 13, 17, 19]"
   ]
  },
  {
   "cell_type": "markdown",
   "metadata": {
    "hidden": true
   },
   "source": [
    "What I want now to do is to build a new list that comprises doubles of primes. I can do this with list comprehension!"
   ]
  },
  {
   "cell_type": "markdown",
   "metadata": {
    "hidden": true
   },
   "source": [
    "The syntax is: `[ f(x) for x in <iterable> if <condition>]`"
   ]
  },
  {
   "cell_type": "code",
   "execution_count": null,
   "metadata": {
    "hidden": true
   },
   "outputs": [],
   "source": [
    "prime_doubles = [x*2 for x in primes]\n",
    "prime_triples = [x*3 for x in primes]"
   ]
  },
  {
   "cell_type": "code",
   "execution_count": null,
   "metadata": {
    "hidden": true
   },
   "outputs": [],
   "source": [
    "prime_doubles"
   ]
  },
  {
   "cell_type": "markdown",
   "metadata": {
    "heading_collapsed": true,
    "hidden": true
   },
   "source": [
    "##### Aside: List Comprehensions Vs. `for`-Loops"
   ]
  },
  {
   "cell_type": "markdown",
   "metadata": {
    "hidden": true
   },
   "source": [
    "Yes, I could do the same work with `for`-loops:"
   ]
  },
  {
   "cell_type": "code",
   "execution_count": null,
   "metadata": {
    "hidden": true
   },
   "outputs": [],
   "source": [
    "prime_doubles2 = []\n",
    "for prime in primes:\n",
    "    prime_doubles2.append(prime*2)\n",
    "prime_doubles2"
   ]
  },
  {
   "cell_type": "code",
   "execution_count": null,
   "metadata": {},
   "outputs": [],
   "source": [
    "prime_doubles == prime_doubles2"
   ]
  },
  {
   "cell_type": "markdown",
   "metadata": {
    "hidden": true
   },
   "source": [
    "But list comprehensions are more efficient: The syntax is simpler, and they're also faster. Also, you'll see them in other people's code, so you'll have to know how to work with them!"
   ]
  },
  {
   "cell_type": "markdown",
   "metadata": {
    "heading_collapsed": true,
    "hidden": true
   },
   "source": [
    "### Another List Comprehension Example"
   ]
  },
  {
   "cell_type": "markdown",
   "metadata": {
    "hidden": true
   },
   "source": [
    "I can use list comprehension to build a list from objects other than lists:"
   ]
  },
  {
   "cell_type": "code",
   "execution_count": null,
   "metadata": {
    "hidden": true
   },
   "outputs": [],
   "source": [
    "names = ('Alan Turing', 'Charles Babbage', 'Ada Lovelace',\n",
    "        'Anita Borg', 'Steve Wozniak', 'Andrew Ng')\n",
    "\n",
    "splits = [name.split() for name in names]\n",
    "splits"
   ]
  },
  {
   "cell_type": "code",
   "execution_count": null,
   "metadata": {
    "hidden": true
   },
   "outputs": [],
   "source": [
    "[name1[0]+'. '+name2[0]+'.' for (name1, name2) in splits]"
   ]
  },
  {
   "cell_type": "code",
   "execution_count": null,
   "metadata": {},
   "outputs": [],
   "source": []
  },
  {
   "cell_type": "markdown",
   "metadata": {
    "heading_collapsed": true,
    "hidden": true
   },
   "source": [
    "### Exercises"
   ]
  },
  {
   "cell_type": "markdown",
   "metadata": {
    "hidden": true
   },
   "source": [
    "1. Use a list comprehension to extract the odd numbers from this set:"
   ]
  },
  {
   "cell_type": "code",
   "execution_count": 2,
   "metadata": {
    "hidden": true
   },
   "outputs": [],
   "source": [
    "nums = set(range(1000))"
   ]
  },
  {
   "cell_type": "code",
   "execution_count": 4,
   "metadata": {},
   "outputs": [
    {
     "name": "stdout",
     "output_type": "stream",
     "text": [
      "[1, 3, 5, 7, 9, 11, 13, 15, 17, 19, 21, 23, 25, 27, 29, 31, 33, 35, 37, 39, 41, 43, 45, 47, 49, 51, 53, 55, 57, 59, 61, 63, 65, 67, 69, 71, 73, 75, 77, 79, 81, 83, 85, 87, 89, 91, 93, 95, 97, 99, 101, 103, 105, 107, 109, 111, 113, 115, 117, 119, 121, 123, 125, 127, 129, 131, 133, 135, 137, 139, 141, 143, 145, 147, 149, 151, 153, 155, 157, 159, 161, 163, 165, 167, 169, 171, 173, 175, 177, 179, 181, 183, 185, 187, 189, 191, 193, 195, 197, 199, 201, 203, 205, 207, 209, 211, 213, 215, 217, 219, 221, 223, 225, 227, 229, 231, 233, 235, 237, 239, 241, 243, 245, 247, 249, 251, 253, 255, 257, 259, 261, 263, 265, 267, 269, 271, 273, 275, 277, 279, 281, 283, 285, 287, 289, 291, 293, 295, 297, 299, 301, 303, 305, 307, 309, 311, 313, 315, 317, 319, 321, 323, 325, 327, 329, 331, 333, 335, 337, 339, 341, 343, 345, 347, 349, 351, 353, 355, 357, 359, 361, 363, 365, 367, 369, 371, 373, 375, 377, 379, 381, 383, 385, 387, 389, 391, 393, 395, 397, 399, 401, 403, 405, 407, 409, 411, 413, 415, 417, 419, 421, 423, 425, 427, 429, 431, 433, 435, 437, 439, 441, 443, 445, 447, 449, 451, 453, 455, 457, 459, 461, 463, 465, 467, 469, 471, 473, 475, 477, 479, 481, 483, 485, 487, 489, 491, 493, 495, 497, 499, 501, 503, 505, 507, 509, 511, 513, 515, 517, 519, 521, 523, 525, 527, 529, 531, 533, 535, 537, 539, 541, 543, 545, 547, 549, 551, 553, 555, 557, 559, 561, 563, 565, 567, 569, 571, 573, 575, 577, 579, 581, 583, 585, 587, 589, 591, 593, 595, 597, 599, 601, 603, 605, 607, 609, 611, 613, 615, 617, 619, 621, 623, 625, 627, 629, 631, 633, 635, 637, 639, 641, 643, 645, 647, 649, 651, 653, 655, 657, 659, 661, 663, 665, 667, 669, 671, 673, 675, 677, 679, 681, 683, 685, 687, 689, 691, 693, 695, 697, 699, 701, 703, 705, 707, 709, 711, 713, 715, 717, 719, 721, 723, 725, 727, 729, 731, 733, 735, 737, 739, 741, 743, 745, 747, 749, 751, 753, 755, 757, 759, 761, 763, 765, 767, 769, 771, 773, 775, 777, 779, 781, 783, 785, 787, 789, 791, 793, 795, 797, 799, 801, 803, 805, 807, 809, 811, 813, 815, 817, 819, 821, 823, 825, 827, 829, 831, 833, 835, 837, 839, 841, 843, 845, 847, 849, 851, 853, 855, 857, 859, 861, 863, 865, 867, 869, 871, 873, 875, 877, 879, 881, 883, 885, 887, 889, 891, 893, 895, 897, 899, 901, 903, 905, 907, 909, 911, 913, 915, 917, 919, 921, 923, 925, 927, 929, 931, 933, 935, 937, 939, 941, 943, 945, 947, 949, 951, 953, 955, 957, 959, 961, 963, 965, 967, 969, 971, 973, 975, 977, 979, 981, 983, 985, 987, 989, 991, 993, 995, 997, 999]\n"
     ]
    }
   ],
   "source": [
    "odd_nums = [x for x in nums if x % 2 != 0]\n",
    "\n",
    "print(odd_nums)"
   ]
  },
  {
   "cell_type": "markdown",
   "metadata": {
    "hidden": true
   },
   "source": [
    "<details>\n",
    "    <summary>Answer\n",
    "    </summary>\n",
    "    <code>[num for num in nums if num % 2 == 1]</code>\n",
    "    </details>"
   ]
  },
  {
   "cell_type": "markdown",
   "metadata": {
    "hidden": true
   },
   "source": [
    "2. Use a list comprehension to take the first character of each string from the following list of words."
   ]
  },
  {
   "cell_type": "code",
   "execution_count": 7,
   "metadata": {
    "hidden": true
   },
   "outputs": [],
   "source": [
    "words = ['carbon', 'osmium', 'mercury', 'potassium', 'rhenium', 'einsteinium',\n",
    "        'hydrogen', 'erbium', 'nitrogen', 'sulfur', 'iodine', 'oxygen', 'niobium']"
   ]
  },
  {
   "cell_type": "code",
   "execution_count": 8,
   "metadata": {},
   "outputs": [
    {
     "name": "stdout",
     "output_type": "stream",
     "text": [
      "['c', 'o', 'm', 'p', 'r', 'e', 'h', 'e', 'n', 's', 'i', 'o', 'n']\n"
     ]
    }
   ],
   "source": [
    "first_letter = [word[0] for word in words]\n",
    "\n",
    "print(first_letter)"
   ]
  },
  {
   "cell_type": "markdown",
   "metadata": {
    "hidden": true
   },
   "source": [
    "<details>\n",
    "    <summary>Answer\n",
    "    </summary>\n",
    "    <code>[word[0] for word in words]</code>\n",
    "    </details>"
   ]
  },
  {
   "cell_type": "markdown",
   "metadata": {
    "hidden": true
   },
   "source": [
    "3. Use a list comprehension to build a list of all the names that start with 'R' from the following list. Add a '?' to the end of each name."
   ]
  },
  {
   "cell_type": "code",
   "execution_count": 10,
   "metadata": {
    "hidden": true
   },
   "outputs": [],
   "source": [
    "names = ['Randy', 'Robert', 'Alex', 'Ranjit', 'Charlie', 'Richard', 'Ravdeep',\n",
    "        'Vimal', 'Wu', 'Nelson']"
   ]
  },
  {
   "cell_type": "code",
   "execution_count": 12,
   "metadata": {},
   "outputs": [
    {
     "name": "stdout",
     "output_type": "stream",
     "text": [
      "['Randy?', 'Robert?', 'Ranjit?', 'Richard?', 'Ravdeep?']\n"
     ]
    }
   ],
   "source": [
    "r_names = [name+'?' for name in names if name[0] == 'R']\n",
    "\n",
    "print(r_names)"
   ]
  },
  {
   "cell_type": "markdown",
   "metadata": {
    "hidden": true
   },
   "source": [
    "<details>\n",
    "<summary>Answer\n",
    "    </summary>\n",
    "    <code>[name+'?' for name in names if name[0] == 'R']</code>\n",
    "    </details>"
   ]
  },
  {
   "cell_type": "markdown",
   "metadata": {
    "heading_collapsed": true
   },
   "source": [
    "# Dictionaries"
   ]
  },
  {
   "cell_type": "markdown",
   "metadata": {
    "heading_collapsed": true,
    "hidden": true
   },
   "source": [
    "## Dictionary Methods"
   ]
  },
  {
   "cell_type": "markdown",
   "metadata": {
    "hidden": true
   },
   "source": [
    "Make sure you're comfortable with the following dictionary methods:\n",
    "\n",
    "- `.keys()`: returns an array of the dictionary's keys\n",
    "- `.values()`: returns an array of the dictionary's values\n",
    "- `.items()`: returns an array of key-value tuples"
   ]
  },
  {
   "cell_type": "markdown",
   "metadata": {
    "heading_collapsed": true,
    "hidden": true
   },
   "source": [
    "## Dictionary Comprehension"
   ]
  },
  {
   "cell_type": "markdown",
   "metadata": {
    "hidden": true
   },
   "source": [
    "Much like list comprehension, I can use dictionary comprehension to build dictionaries from existing iterables."
   ]
  },
  {
   "cell_type": "code",
   "execution_count": 13,
   "metadata": {
    "hidden": true
   },
   "outputs": [],
   "source": [
    "my_dict = {'who': 'flatiron school', 'what': 'data science',\n",
    "           'when': 'now', 'where': 'here', 'why': '$',\n",
    "           'how': 'python'}"
   ]
  },
  {
   "cell_type": "markdown",
   "metadata": {
    "hidden": true
   },
   "source": [
    "Remember that the `.items()` method will return a collection of doubles:"
   ]
  },
  {
   "cell_type": "code",
   "execution_count": 14,
   "metadata": {
    "hidden": true
   },
   "outputs": [
    {
     "data": {
      "text/plain": [
       "dict_items([('who', 'flatiron school'), ('what', 'data science'), ('when', 'now'), ('where', 'here'), ('why', '$'), ('how', 'python')])"
      ]
     },
     "execution_count": 14,
     "metadata": {},
     "output_type": "execute_result"
    }
   ],
   "source": [
    "my_dict.items()"
   ]
  },
  {
   "cell_type": "markdown",
   "metadata": {
    "hidden": true
   },
   "source": [
    "So I can use a pair of variables to range over it:"
   ]
  },
  {
   "cell_type": "code",
   "execution_count": 15,
   "metadata": {
    "hidden": true
   },
   "outputs": [
    {
     "data": {
      "text/plain": [
       "{'who': 'flatiron school!',\n",
       " 'what': 'data science!',\n",
       " 'when': 'now!',\n",
       " 'where': 'here!',\n",
       " 'why': '$!'}"
      ]
     },
     "execution_count": 15,
     "metadata": {},
     "output_type": "execute_result"
    }
   ],
   "source": [
    "{k: v + '!' for k, v in my_dict.items() if k.startswith('w')}"
   ]
  },
  {
   "cell_type": "markdown",
   "metadata": {
    "hidden": true
   },
   "source": [
    "The same thing works for any collections of doubles:"
   ]
  },
  {
   "cell_type": "code",
   "execution_count": 16,
   "metadata": {
    "hidden": true
   },
   "outputs": [
    {
     "data": {
      "text/plain": [
       "{0: 1, 4: 9, 16: 25}"
      ]
     },
     "execution_count": 16,
     "metadata": {},
     "output_type": "execute_result"
    }
   ],
   "source": [
    "{k**2: v**2 for k, v in [(0, 1), (2, 3), (4, 5)]}"
   ]
  },
  {
   "cell_type": "markdown",
   "metadata": {
    "heading_collapsed": true,
    "hidden": true
   },
   "source": [
    "### `zip`"
   ]
  },
  {
   "cell_type": "markdown",
   "metadata": {
    "hidden": true
   },
   "source": [
    "Remember that `zip` is a handy way of pairing up two or more iterables:"
   ]
  },
  {
   "cell_type": "code",
   "execution_count": 17,
   "metadata": {
    "hidden": true
   },
   "outputs": [
    {
     "data": {
      "text/plain": [
       "{0: 'apple', 1: 'orange', 2: 'banana', 3: 'lime', 4: 'blueberry'}"
      ]
     },
     "execution_count": 17,
     "metadata": {},
     "output_type": "execute_result"
    }
   ],
   "source": [
    "dict(zip(range(5), ['apple', 'orange', 'banana', 'lime', 'blueberry']))"
   ]
  },
  {
   "cell_type": "code",
   "execution_count": 22,
   "metadata": {},
   "outputs": [
    {
     "data": {
      "text/plain": [
       "[(0, 10), (1, 9), (2, 8), (3, 7), (4, 6)]"
      ]
     },
     "execution_count": 22,
     "metadata": {},
     "output_type": "execute_result"
    }
   ],
   "source": [
    "list(zip(range(5), [10, 9, 8, 7, 6]))"
   ]
  },
  {
   "cell_type": "code",
   "execution_count": 21,
   "metadata": {
    "hidden": true,
    "scrolled": true
   },
   "outputs": [
    {
     "data": {
      "text/plain": [
       "((1, 'a', 'b', 'c', 'd', 'e'),\n",
       " (2, 'a', 'b', 'c', 'd', 'e'),\n",
       " (3, 'a', 'b', 'c', 'd', 'e'),\n",
       " (4, 'a', 'b', 'c', 'd', 'e'))"
      ]
     },
     "execution_count": 21,
     "metadata": {},
     "output_type": "execute_result"
    }
   ],
   "source": [
    "# Zipping multiple iterables together\n",
    "tuple(zip(range(1, 5), 'a'*4, 'b'*4, 'c'*4, 'd'*4, 'e'*4))"
   ]
  },
  {
   "cell_type": "code",
   "execution_count": 25,
   "metadata": {},
   "outputs": [
    {
     "data": {
      "text/plain": [
       "range"
      ]
     },
     "execution_count": 25,
     "metadata": {},
     "output_type": "execute_result"
    }
   ],
   "source": [
    "type(range(1, 5))"
   ]
  },
  {
   "cell_type": "markdown",
   "metadata": {
    "heading_collapsed": true,
    "hidden": true
   },
   "source": [
    "#### Dictionary Comprehension Using `zip`"
   ]
  },
  {
   "cell_type": "code",
   "execution_count": 26,
   "metadata": {
    "hidden": true
   },
   "outputs": [
    {
     "data": {
      "text/plain": [
       "{0: 0, 1: 2, 2: 4, 3: 6, 4: 8}"
      ]
     },
     "execution_count": 26,
     "metadata": {},
     "output_type": "execute_result"
    }
   ],
   "source": [
    "{k: v for k, v in zip(range(5), range(0, 10, 2))}"
   ]
  },
  {
   "cell_type": "code",
   "execution_count": 28,
   "metadata": {
    "hidden": true
   },
   "outputs": [
    {
     "data": {
      "text/plain": [
       "{'model 1': 0.858, 'model 2': 0.873, 'model 3': 0.868}"
      ]
     },
     "execution_count": 28,
     "metadata": {},
     "output_type": "execute_result"
    }
   ],
   "source": [
    "scores = [.858, .873, .868]\n",
    "{'model ' + str(j+1): scores[j] for j in range(3)}"
   ]
  },
  {
   "cell_type": "markdown",
   "metadata": {
    "heading_collapsed": true,
    "hidden": true
   },
   "source": [
    "### Exercises"
   ]
  },
  {
   "cell_type": "markdown",
   "metadata": {
    "hidden": true
   },
   "source": [
    "1. Use a dictionary comprehension to pair up the countries in the first list with their corresponding capitals in the second list:"
   ]
  },
  {
   "cell_type": "code",
   "execution_count": 30,
   "metadata": {
    "hidden": true
   },
   "outputs": [],
   "source": [
    "list1 = ['USA', 'France', 'Canada', 'Thailand']\n",
    "list2 = ['Washington', 'Paris', 'Ottawa', 'Bangkok']"
   ]
  },
  {
   "cell_type": "code",
   "execution_count": 33,
   "metadata": {},
   "outputs": [
    {
     "name": "stdout",
     "output_type": "stream",
     "text": [
      "{'USA': 'Washington', 'France': 'Paris', 'Canada': 'Ottawa', 'Thailand': 'Bangkok'}\n"
     ]
    }
   ],
   "source": [
    "country_capitals = { country : capital for country, capital in zip(list1, list2) }\n",
    "\n",
    "print(country_capitals)"
   ]
  },
  {
   "cell_type": "code",
   "execution_count": 34,
   "metadata": {},
   "outputs": [
    {
     "data": {
      "text/plain": [
       "{'USA': 'Washington',\n",
       " 'France': 'Paris',\n",
       " 'Canada': 'Ottawa',\n",
       " 'Thailand': 'Bangkok'}"
      ]
     },
     "execution_count": 34,
     "metadata": {},
     "output_type": "execute_result"
    }
   ],
   "source": [
    "dict(zip(list1, list2))"
   ]
  },
  {
   "cell_type": "markdown",
   "metadata": {
    "hidden": true
   },
   "source": [
    "<details>\n",
    "<summary>Answer\n",
    "    </summary>\n",
    "    <code>{country: capital for (country, capital) in zip(list1, list2)}</code> <br/> OR <br/>\n",
    "    <code>dict(zip(list1, list2))</code>\n",
    "    </details>"
   ]
  },
  {
   "cell_type": "markdown",
   "metadata": {
    "hidden": true
   },
   "source": [
    "2. Use a dictionary comprehension to make each of the characters in the following list a key with the value 'fictional character'."
   ]
  },
  {
   "cell_type": "code",
   "execution_count": 36,
   "metadata": {
    "hidden": true
   },
   "outputs": [],
   "source": [
    "chars = ['Pinocchio', 'Gilgamesh', 'Kumar Patel', 'Toby Flenderson']"
   ]
  },
  {
   "cell_type": "code",
   "execution_count": 40,
   "metadata": {},
   "outputs": [
    {
     "data": {
      "text/plain": [
       "{'Pinocchio': 'fictional character',\n",
       " 'Gilgamesh': 'fictional character',\n",
       " 'Kumar Patel': 'fictional character',\n",
       " 'Toby Flenderson': 'fictional character'}"
      ]
     },
     "execution_count": 40,
     "metadata": {},
     "output_type": "execute_result"
    }
   ],
   "source": [
    "{ char: 'fictional character' for char in chars }"
   ]
  },
  {
   "cell_type": "markdown",
   "metadata": {
    "hidden": true
   },
   "source": [
    "<details>\n",
    "    <summary>Answer</summary>\n",
    "    <code>{char: 'fictional character' for char in chars}</code>\n",
    "    </details>"
   ]
  },
  {
   "cell_type": "markdown",
   "metadata": {
    "heading_collapsed": true
   },
   "source": [
    "# Nesting"
   ]
  },
  {
   "cell_type": "markdown",
   "metadata": {
    "hidden": true
   },
   "source": [
    "Just as we can put lists and dictionaries inside of other lists and dictionaries, we can also put comprehensions inside of other comprehensions."
   ]
  },
  {
   "cell_type": "code",
   "execution_count": 41,
   "metadata": {
    "hidden": true
   },
   "outputs": [],
   "source": [
    "lists = [['morning', 'afternoon', 'night'], ['read', 'code', 'sleep']]"
   ]
  },
  {
   "cell_type": "code",
   "execution_count": 42,
   "metadata": {
    "hidden": true
   },
   "outputs": [
    {
     "data": {
      "text/plain": [
       "[['m', 'a', 'n'], ['r', 'c', 's']]"
      ]
     },
     "execution_count": 42,
     "metadata": {},
     "output_type": "execute_result"
    }
   ],
   "source": [
    "[[item[0] for item in small_list] for small_list in lists]"
   ]
  },
  {
   "cell_type": "markdown",
   "metadata": {
    "heading_collapsed": true,
    "hidden": true
   },
   "source": [
    "## Nested Structures"
   ]
  },
  {
   "cell_type": "markdown",
   "metadata": {
    "hidden": true
   },
   "source": [
    "It will be well worth your while to practice accessing data in complex structures. Consider the following:"
   ]
  },
  {
   "cell_type": "code",
   "execution_count": 47,
   "metadata": {
    "hidden": true
   },
   "outputs": [],
   "source": [
    "customers = {\n",
    "    'bill': {'purchases': {'movies': ['Terminator', 'Elf'],\n",
    "                     'books': []}, 'id': 1},\n",
    "            'dolph': {'purchases': {'movies': ['It Happened One Night'],\n",
    "                     'books': ['The Far Side Gallery']}, 'id': 2},\n",
    "            'pat': {'purchases': {'movies': [],\n",
    "                   'books': ['Seinfeld and Philosophy', 'I Am a Bunny']},\n",
    "                   'id': 3}\n",
    "}"
   ]
  },
  {
   "cell_type": "markdown",
   "metadata": {
    "hidden": true
   },
   "source": [
    "**Q**: How would we access 'I Am a Bunny'?\n",
    "<br/>\n",
    "**A**: The outermost \"layer\" has a name: 'customers', and that object is a dictionary:\n",
    "<br/>\n",
    "`customers`\n",
    "<br/>\n",
    "The key we are interested in is 'pat', since that's where 'I Am a Bunny' is located:\n",
    "<br/>\n",
    "`customers['pat']`\n",
    "<br/>\n",
    "The value corresponding to the key 'pat' is also a dictionary, and in this \"lower-down\" dictionary, the key we are interested in is 'purchases':\n",
    "<br/>\n",
    "`customers['pat']['purchases']`\n",
    "<br/>\n",
    "The value corresponding to the key 'purchases' is yet another dictionary, and here the key of interest is `books`:\n",
    "<br/>\n",
    "`customers['pat']['purchases']['books']`\n",
    "<br/>\n",
    "The value corresponding to the key 'books' is a list, and 'I Am a Bunny' is the second element in that list:\n",
    "<br/>\n",
    "`customers['pat']['purchases']['books'][1]`"
   ]
  },
  {
   "cell_type": "code",
   "execution_count": null,
   "metadata": {
    "hidden": true
   },
   "outputs": [],
   "source": [
    "customers['pat']['purchases']['books'][1]"
   ]
  },
  {
   "cell_type": "markdown",
   "metadata": {
    "heading_collapsed": true,
    "hidden": true
   },
   "source": [
    "## Exercises"
   ]
  },
  {
   "cell_type": "markdown",
   "metadata": {
    "hidden": true
   },
   "source": [
    "1. From the list below, make a list of dictionaries where the key is the person's name and the value is the person's home phone number."
   ]
  },
  {
   "cell_type": "code",
   "execution_count": 44,
   "metadata": {
    "hidden": true
   },
   "outputs": [],
   "source": [
    "phone_nos = [{'name': 'greg', 'nums': {'home': 1234567, 'work': 7654321}},\n",
    "          {'name': 'max', 'nums': {'home': 9876543, 'work': 1010001}},\n",
    "            {'name': 'erin', 'nums': {'home': 3333333, 'work': 4444444}},\n",
    "            {'name': 'joél', 'nums': {'home': 2222222, 'work': 5555555}},\n",
    "            {'name': 'sean', 'nums': {'home': 9999999, 'work': 8888888}}]"
   ]
  },
  {
   "cell_type": "code",
   "execution_count": 46,
   "metadata": {},
   "outputs": [
    {
     "name": "stdout",
     "output_type": "stream",
     "text": [
      "[{'greg': 1234567}, {'max': 9876543}, {'erin': 3333333}, {'joél': 2222222}, {'sean': 9999999}]\n"
     ]
    }
   ],
   "source": [
    "list_of_dicts = [ {item['name'] : item['nums']['home'] } for item in phone_nos ]\n",
    "\n",
    "print(list_of_dicts)"
   ]
  },
  {
   "cell_type": "markdown",
   "metadata": {
    "hidden": true
   },
   "source": [
    "<details>\n",
    "    <summary>Answer</summary>\n",
    "    <code>[{item['name']: item['nums']['home']} for item in phone_nos]</code>\n",
    "    </details>"
   ]
  },
  {
   "cell_type": "markdown",
   "metadata": {
    "hidden": true
   },
   "source": [
    "2. From the customers dictionary above, build a dictionary where the customers' names are the keys and the movies they've bought are the values."
   ]
  },
  {
   "cell_type": "code",
   "execution_count": 53,
   "metadata": {},
   "outputs": [
    {
     "data": {
      "text/plain": [
       "{'bill': ['Terminator', 'Elf'], 'dolph': ['It Happened One Night'], 'pat': []}"
      ]
     },
     "execution_count": 53,
     "metadata": {},
     "output_type": "execute_result"
    }
   ],
   "source": [
    "customer_names = list(customers.keys())\n",
    "\n",
    "# { customer_names[j] : customers[customer_names[j]]['purchases']['movies'] for j in range(len(customer_names))}\n",
    "\n",
    "{ customer: customers[customer]['purchases']['movies'] for customer in customers.keys() }"
   ]
  },
  {
   "cell_type": "markdown",
   "metadata": {
    "hidden": true
   },
   "source": [
    "<details>\n",
    "    <summary>Answer</summary>\n",
    "    <code>{customer: customers[customer]['purchases']['movies'] for customer in customers.keys()}</code> <br/>\n",
    "    OR <br/>\n",
    "    <code>{k: v['purchases']['movies'] for k, v in customers.items()}</code>\n",
    "    </details>"
   ]
  },
  {
   "cell_type": "markdown",
   "metadata": {
    "heading_collapsed": true,
    "hidden": true
   },
   "source": [
    "# More Exercises"
   ]
  },
  {
   "cell_type": "markdown",
   "metadata": {
    "hidden": true
   },
   "source": [
    "1. Build a function that will return $2^n$ for an input $n$."
   ]
  },
  {
   "cell_type": "code",
   "execution_count": 57,
   "metadata": {},
   "outputs": [
    {
     "name": "stdout",
     "output_type": "stream",
     "text": [
      "1 2 4 8\n"
     ]
    }
   ],
   "source": [
    "def powers_of_two(log=1):\n",
    "    return 2**log\n",
    "\n",
    "print(powers_of_two(0), powers_of_two(), powers_of_two(2), powers_of_two(3))"
   ]
  },
  {
   "cell_type": "markdown",
   "metadata": {
    "hidden": true
   },
   "source": [
    "<details>\n",
    "    <summary>Answer</summary>\n",
    "    <code>\n",
    "def expo(n):\n",
    "    return 2**n</code>\n",
    "    </details>"
   ]
  },
  {
   "cell_type": "markdown",
   "metadata": {
    "hidden": true
   },
   "source": [
    "2. Build a function that will take in a list of phone numbers as strings and return the same as integers, removing any parentheses ('(' and ')'), hyphens ('-'), and spaces."
   ]
  },
  {
   "cell_type": "code",
   "execution_count": 72,
   "metadata": {},
   "outputs": [
    {
     "data": {
      "text/plain": [
       "[2644950127, 3992671894, 7773914296]"
      ]
     },
     "execution_count": 72,
     "metadata": {},
     "output_type": "execute_result"
    }
   ],
   "source": [
    "def phone_num_to_int(list_of_phone_nums):\n",
    "    int_nums = []\n",
    "    if list_of_phone_nums == None:\n",
    "        print('Please give this function a list of phone numbers to convert to integer formats.')\n",
    "    else:\n",
    "        for number in list_of_phone_nums:\n",
    "            new = number.replace('(', '')\n",
    "            new = new.replace(')', '')\n",
    "            new = new.replace('-', '')\n",
    "            new = new.replace(' ', '')\n",
    "            int_nums.append(int(new))\n",
    "        return(int_nums)\n",
    "    \n",
    "test_numbers = [ '264-495-0127', '399 267 1894', '(777) 391-4296']\n",
    "\n",
    "# type(phone_num_to_int(test_numbers)[0])\n",
    "\n",
    "# phone_num_to_int(test_numbers)\n",
    "\n",
    "# Take 2 (after glancing at answer)\n",
    "\n",
    "def phone_num_to_int2(list_of_phone_nums):\n",
    "    return [ int(number.replace('(', '').replace(')', '').replace('-', '').replace(' ', ''))\n",
    "            for number in list_of_phone_nums ]\n",
    "\n",
    "phone_num_to_int(test_numbers)"
   ]
  },
  {
   "cell_type": "markdown",
   "metadata": {
    "hidden": true
   },
   "source": [
    "<details>\n",
    "    <summary>Answer</summary>\n",
    "    <code>\n",
    "def int_phone(string_list):\n",
    "    return [int(string.replace('(', '').replace(')', '').replace('-', '').replace(' ', ''))\\\n",
    "    for string in string_list]</code>\n",
    "    </details>"
   ]
  },
  {
   "cell_type": "markdown",
   "metadata": {
    "hidden": true
   },
   "source": [
    "3. Build a function that returns the mode of a list of numbers."
   ]
  },
  {
   "cell_type": "code",
   "execution_count": 91,
   "metadata": {},
   "outputs": [
    {
     "data": {
      "text/plain": [
       "[9]"
      ]
     },
     "execution_count": 91,
     "metadata": {},
     "output_type": "execute_result"
    }
   ],
   "source": [
    "def return_mode(list_of_nums):\n",
    "    counts = { num : list_of_nums.count(num) for num in list_of_nums }\n",
    "    return [ num for num in counts.keys() if counts[num] == max(counts.values()) and counts[num] != 1 ]\n",
    "\n",
    "# def return_mode(list_of_nums):\n",
    "#     freq_dict = {}\n",
    "#     for number in list_of_nums:\n",
    "#         freq_dict[number] = freq_dict.get(number, 0) + 1\n",
    "#     modes = [ k for k, v in freq_dict.items() if v == max(freq_dict.values()) and v != 1 ]\n",
    "#     return modes\n",
    "\n",
    "test_list = [ 4, 5, 9, 9, 9, 21, 42, 36, 36, 74, 92, 1, 25 ]\n",
    "\n",
    "return_mode(test_list)"
   ]
  },
  {
   "cell_type": "markdown",
   "metadata": {
    "hidden": true
   },
   "source": [
    "<details>\n",
    "    <summary>Answer</summary>\n",
    "        <code>\n",
    "def mode(lst):\n",
    "    counts = {num: lst.count(num) for num in lst}\n",
    "    return [num for num in counts.keys() if counts[num] == max(counts.values())]</code>\n",
    "    </details>"
   ]
  }
 ],
 "metadata": {
  "kernelspec": {
   "display_name": "Python 3",
   "language": "python",
   "name": "python3"
  },
  "language_info": {
   "codemirror_mode": {
    "name": "ipython",
    "version": 3
   },
   "file_extension": ".py",
   "mimetype": "text/x-python",
   "name": "python",
   "nbconvert_exporter": "python",
   "pygments_lexer": "ipython3",
   "version": "3.8.5"
  },
  "toc": {
   "base_numbering": 1,
   "nav_menu": {},
   "number_sections": true,
   "sideBar": true,
   "skip_h1_title": false,
   "title_cell": "Table of Contents",
   "title_sidebar": "Contents",
   "toc_cell": true,
   "toc_position": {
    "height": "calc(100% - 180px)",
    "left": "10px",
    "top": "150px",
    "width": "384px"
   },
   "toc_section_display": true,
   "toc_window_display": true
  }
 },
 "nbformat": 4,
 "nbformat_minor": 2
}
